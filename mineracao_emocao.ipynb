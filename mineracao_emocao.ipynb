{
  "nbformat": 4,
  "nbformat_minor": 0,
  "metadata": {
    "colab": {
      "name": "mineracao-emocao.ipynb",
      "provenance": [],
      "toc_visible": true
    },
    "kernelspec": {
      "name": "python3",
      "display_name": "Python 3"
    }
  },
  "cells": [
    {
      "cell_type": "markdown",
      "metadata": {
        "id": "PfOLLeabOtrj",
        "colab_type": "text"
      },
      "source": [
        "##Bibliotecas"
      ]
    },
    {
      "cell_type": "code",
      "metadata": {
        "id": "Da1hZuOo2hol",
        "colab_type": "code",
        "outputId": "6a35729a-4877-40db-8562-da7d768160f5",
        "colab": {
          "base_uri": "https://localhost:8080/",
          "height": 153
        }
      },
      "source": [
        "import nltk\n",
        "nltk.download('punkt')\n",
        "nltk.download('stopwords')\n",
        "nltk.download('averaged_perceptron_tagger')\n",
        "from nltk.tokenize import word_tokenize\n",
        "from nltk import tokenize \n",
        "from nltk.stem import RSLPStemmer\n",
        "from nltk.stem.porter import *"
      ],
      "execution_count": 383,
      "outputs": [
        {
          "output_type": "stream",
          "text": [
            "[nltk_data] Downloading package punkt to /root/nltk_data...\n",
            "[nltk_data]   Package punkt is already up-to-date!\n",
            "[nltk_data] Downloading package stopwords to /root/nltk_data...\n",
            "[nltk_data]   Package stopwords is already up-to-date!\n",
            "[nltk_data] Downloading package averaged_perceptron_tagger to\n",
            "[nltk_data]     /root/nltk_data...\n",
            "[nltk_data]   Package averaged_perceptron_tagger is already up-to-\n",
            "[nltk_data]       date!\n"
          ],
          "name": "stdout"
        }
      ]
    },
    {
      "cell_type": "markdown",
      "metadata": {
        "id": "zvecPGfPbOSC",
        "colab_type": "text"
      },
      "source": [
        "#  Pré-processamento dos dados"
      ]
    },
    {
      "cell_type": "code",
      "metadata": {
        "id": "74_IgeV85sYY",
        "colab_type": "code",
        "colab": {}
      },
      "source": [
        "base = [('eu sou admirada por muitos','alegria'),\n",
        "        ('me sinto completamente amado','alegria'),\n",
        "        ('amar e maravilhoso','alegria'),\n",
        "        ('estou me sentindo muito animado novamente','alegria'),\n",
        "        ('eu estou muito bem hoje','alegria'),\n",
        "        ('que belo dia para dirigir um carro novo','alegria'),\n",
        "        ('o dia está muito bonito','alegria'),\n",
        "        ('estou completamente apaixonado por ela','alegria'),\n",
        "        ('estou contente com o resultado do teste que fiz no dia de ontem','alegria'),\n",
        "        ('o amor e lindo','alegria'),\n",
        "        ('eu amo o meu cachorro', 'alegria'),\n",
        "        ('nossa amizade e amor vai durar para sempre', 'alegria'),\n",
        "        ('estou amedrontado', 'medo'),\n",
        "        ('estou com medo de morrer', 'medo'),\n",
        "        ('ele esta me ameacando a dias', 'medo'),\n",
        "        ('isso me deixa apavorada', 'medo'),\n",
        "        ('este lugar e apavorante', 'medo'),\n",
        "        ('se perdermos outro jogo seremos eliminados e isso me deixa com pavor', 'medo'),\n",
        "        ('tome cuidado com o lobisomem', 'medo'),\n",
        "        ('se eles descobrirem estamos encrencados', 'medo'),\n",
        "        ('estou tremendo de medo', 'medo'),\n",
        "        ('eu tenho muito medo dele', 'medo'),\n",
        "        ('estou com medo do resultado dos meus testes', 'medo')]"
      ],
      "execution_count": 0,
      "outputs": []
    },
    {
      "cell_type": "markdown",
      "metadata": {
        "id": "vDsfXsaWOiV8",
        "colab_type": "text"
      },
      "source": [
        "##Remoção de Stopwords\n",
        "Esse método consiste em remover palavras muito frequentes, tais como “a”, “de”, “o”, “da”, “que”, “e”, “do” entre outras, pois na maioria das vezes não são informações relevantes para a construção do modelo."
      ]
    },
    {
      "cell_type": "code",
      "metadata": {
        "id": "lCXILd4C5u1A",
        "colab_type": "code",
        "outputId": "40c3abb5-8d80-4901-c5da-4840997c40e1",
        "colab": {
          "base_uri": "https://localhost:8080/",
          "height": 54
        }
      },
      "source": [
        "stopwords = nltk.corpus.stopwords.words('portuguese')\n",
        "\n",
        "def remove_stopwords(texto):\n",
        "  frase = []\n",
        "  for (palavras , emocao) in texto:\n",
        "    sem_stop = [p for p in palavras.split() if p not in stopwords]\n",
        "    frase.append((sem_stop,emocao))\n",
        "  return frase\n",
        "\n",
        "base_sem_stopwords = (remove_stopwords(base))\n",
        "print(base_sem_stopwords)"
      ],
      "execution_count": 385,
      "outputs": [
        {
          "output_type": "stream",
          "text": [
            "[(['admirada', 'muitos'], 'alegria'), (['sinto', 'completamente', 'amado'], 'alegria'), (['amar', 'maravilhoso'], 'alegria'), (['sentindo', 'animado', 'novamente'], 'alegria'), (['bem', 'hoje'], 'alegria'), (['belo', 'dia', 'dirigir', 'carro', 'novo'], 'alegria'), (['dia', 'bonito'], 'alegria'), (['completamente', 'apaixonado'], 'alegria'), (['contente', 'resultado', 'teste', 'fiz', 'dia', 'ontem'], 'alegria'), (['amor', 'lindo'], 'alegria'), (['amo', 'cachorro'], 'alegria'), (['amizade', 'amor', 'vai', 'durar', 'sempre'], 'alegria'), (['amedrontado'], 'medo'), (['medo', 'morrer'], 'medo'), (['ameacando', 'dias'], 'medo'), (['deixa', 'apavorada'], 'medo'), (['lugar', 'apavorante'], 'medo'), (['perdermos', 'outro', 'jogo', 'eliminados', 'deixa', 'pavor'], 'medo'), (['tome', 'cuidado', 'lobisomem'], 'medo'), (['descobrirem', 'encrencados'], 'medo'), (['tremendo', 'medo'], 'medo'), (['medo'], 'medo'), (['medo', 'resultado', 'testes'], 'medo')]\n"
          ],
          "name": "stdout"
        }
      ]
    },
    {
      "cell_type": "markdown",
      "metadata": {
        "id": "_WeOpgOSOavE",
        "colab_type": "text"
      },
      "source": [
        "## Stemização\n",
        "Consiste em reduzir uma palavra ao seu radical"
      ]
    },
    {
      "cell_type": "code",
      "metadata": {
        "id": "b5LA5OwX_dku",
        "colab_type": "code",
        "outputId": "8bac244a-d1f1-4d1d-f2ea-a9da9738d471",
        "colab": {
          "base_uri": "https://localhost:8080/",
          "height": 71
        }
      },
      "source": [
        "#Stemming\n",
        "\n",
        "#stemmed_palavras = [stemmer.stem(word) for word in base_sem_stopwords]\n",
        "def aplica_stemmer(texto):\n",
        "  stemmer = PorterStemmer()\n",
        "  stemmed = nltk.stem.SnowballStemmer('portuguese')\n",
        "  \n",
        "  frases_stemming = []\n",
        "  for (palavras, emocao) in texto:\n",
        "    com_stemming = [str(stemmer.stem(p)) for p in palavras]\n",
        "    frases_stemming.append((com_stemming,emocao))\n",
        "  return frases_stemming\n",
        "\n",
        "\n",
        "print(base_sem_stopwords)\n",
        "base_nova = aplica_stemmer(base_sem_stopwords)\n",
        "print(base_nova)\n"
      ],
      "execution_count": 386,
      "outputs": [
        {
          "output_type": "stream",
          "text": [
            "[(['admirada', 'muitos'], 'alegria'), (['sinto', 'completamente', 'amado'], 'alegria'), (['amar', 'maravilhoso'], 'alegria'), (['sentindo', 'animado', 'novamente'], 'alegria'), (['bem', 'hoje'], 'alegria'), (['belo', 'dia', 'dirigir', 'carro', 'novo'], 'alegria'), (['dia', 'bonito'], 'alegria'), (['completamente', 'apaixonado'], 'alegria'), (['contente', 'resultado', 'teste', 'fiz', 'dia', 'ontem'], 'alegria'), (['amor', 'lindo'], 'alegria'), (['amo', 'cachorro'], 'alegria'), (['amizade', 'amor', 'vai', 'durar', 'sempre'], 'alegria'), (['amedrontado'], 'medo'), (['medo', 'morrer'], 'medo'), (['ameacando', 'dias'], 'medo'), (['deixa', 'apavorada'], 'medo'), (['lugar', 'apavorante'], 'medo'), (['perdermos', 'outro', 'jogo', 'eliminados', 'deixa', 'pavor'], 'medo'), (['tome', 'cuidado', 'lobisomem'], 'medo'), (['descobrirem', 'encrencados'], 'medo'), (['tremendo', 'medo'], 'medo'), (['medo'], 'medo'), (['medo', 'resultado', 'testes'], 'medo')]\n",
            "[(['admirada', 'muito'], 'alegria'), (['sinto', 'completament', 'amado'], 'alegria'), (['amar', 'maravilhoso'], 'alegria'), (['sentindo', 'animado', 'novament'], 'alegria'), (['bem', 'hoje'], 'alegria'), (['belo', 'dia', 'dirigir', 'carro', 'novo'], 'alegria'), (['dia', 'bonito'], 'alegria'), (['completament', 'apaixonado'], 'alegria'), (['content', 'resultado', 'test', 'fiz', 'dia', 'ontem'], 'alegria'), (['amor', 'lindo'], 'alegria'), (['amo', 'cachorro'], 'alegria'), (['amizad', 'amor', 'vai', 'durar', 'sempr'], 'alegria'), (['amedrontado'], 'medo'), (['medo', 'morrer'], 'medo'), (['ameacando', 'dia'], 'medo'), (['deixa', 'apavorada'], 'medo'), (['lugar', 'apavorant'], 'medo'), (['perdermo', 'outro', 'jogo', 'eliminado', 'deixa', 'pavor'], 'medo'), (['tome', 'cuidado', 'lobisomem'], 'medo'), (['descobrirem', 'encrencado'], 'medo'), (['tremendo', 'medo'], 'medo'), (['medo'], 'medo'), (['medo', 'resultado', 'test'], 'medo')]\n"
          ],
          "name": "stdout"
        }
      ]
    },
    {
      "cell_type": "markdown",
      "metadata": {
        "id": "jswiAFyUOQfZ",
        "colab_type": "text"
      },
      "source": [
        "## Removendo as emoções"
      ]
    },
    {
      "cell_type": "code",
      "metadata": {
        "id": "niq_H88sMNhq",
        "colab_type": "code",
        "outputId": "0572c8f4-e567-4b21-b866-37f23e44f2cf",
        "colab": {
          "base_uri": "https://localhost:8080/",
          "height": 54
        }
      },
      "source": [
        "def remove_emocoes(base):\n",
        "  base_nova = []\n",
        "  for (palavras,emocao) in base:\n",
        "    base_nova.extend(palavras)\n",
        "  return base_nova\n",
        "\n",
        "base_palavras = remove_emocoes(base_nova)\n",
        "print(base_palavras)"
      ],
      "execution_count": 387,
      "outputs": [
        {
          "output_type": "stream",
          "text": [
            "['admirada', 'muito', 'sinto', 'completament', 'amado', 'amar', 'maravilhoso', 'sentindo', 'animado', 'novament', 'bem', 'hoje', 'belo', 'dia', 'dirigir', 'carro', 'novo', 'dia', 'bonito', 'completament', 'apaixonado', 'content', 'resultado', 'test', 'fiz', 'dia', 'ontem', 'amor', 'lindo', 'amo', 'cachorro', 'amizad', 'amor', 'vai', 'durar', 'sempr', 'amedrontado', 'medo', 'morrer', 'ameacando', 'dia', 'deixa', 'apavorada', 'lugar', 'apavorant', 'perdermo', 'outro', 'jogo', 'eliminado', 'deixa', 'pavor', 'tome', 'cuidado', 'lobisomem', 'descobrirem', 'encrencado', 'tremendo', 'medo', 'medo', 'medo', 'resultado', 'test']\n"
          ],
          "name": "stdout"
        }
      ]
    },
    {
      "cell_type": "code",
      "metadata": {
        "id": "cYs5sUC8QID2",
        "colab_type": "code",
        "outputId": "09520fd8-6ace-4d82-f6c3-7a55a9e11962",
        "colab": {
          "base_uri": "https://localhost:8080/",
          "height": 54
        }
      },
      "source": [
        "frequencia = nltk.FreqDist(base_palavras)\n",
        "print(frequencia.most_common(20))"
      ],
      "execution_count": 388,
      "outputs": [
        {
          "output_type": "stream",
          "text": [
            "[('dia', 4), ('medo', 4), ('completament', 2), ('resultado', 2), ('test', 2), ('amor', 2), ('deixa', 2), ('admirada', 1), ('muito', 1), ('sinto', 1), ('amado', 1), ('amar', 1), ('maravilhoso', 1), ('sentindo', 1), ('animado', 1), ('novament', 1), ('bem', 1), ('hoje', 1), ('belo', 1), ('dirigir', 1)]\n"
          ],
          "name": "stdout"
        }
      ]
    },
    {
      "cell_type": "markdown",
      "metadata": {
        "id": "NM55JCzFWWWX",
        "colab_type": "text"
      },
      "source": [
        "##Vetor de caracteristicas"
      ]
    },
    {
      "cell_type": "code",
      "metadata": {
        "id": "J8n_NCt-Tef2",
        "colab_type": "code",
        "outputId": "de6b106b-8159-4fec-9762-4ad09f9cddfb",
        "colab": {
          "base_uri": "https://localhost:8080/",
          "height": 54
        }
      },
      "source": [
        "def busca_palavras_unicas(base_frequencia):\n",
        "  return base_frequencia.keys()\n",
        "\n",
        "palavras_unicas = busca_palavras_unicas(frequencia)\n",
        "print(palavras_unicas)"
      ],
      "execution_count": 389,
      "outputs": [
        {
          "output_type": "stream",
          "text": [
            "dict_keys(['admirada', 'muito', 'sinto', 'completament', 'amado', 'amar', 'maravilhoso', 'sentindo', 'animado', 'novament', 'bem', 'hoje', 'belo', 'dia', 'dirigir', 'carro', 'novo', 'bonito', 'apaixonado', 'content', 'resultado', 'test', 'fiz', 'ontem', 'amor', 'lindo', 'amo', 'cachorro', 'amizad', 'vai', 'durar', 'sempr', 'amedrontado', 'medo', 'morrer', 'ameacando', 'deixa', 'apavorada', 'lugar', 'apavorant', 'perdermo', 'outro', 'jogo', 'eliminado', 'pavor', 'tome', 'cuidado', 'lobisomem', 'descobrirem', 'encrencado', 'tremendo'])\n"
          ],
          "name": "stdout"
        }
      ]
    },
    {
      "cell_type": "markdown",
      "metadata": {
        "id": "p4HR4YPybaby",
        "colab_type": "text"
      },
      "source": [
        "##Extração das palavas\n",
        "palavras com frêquencia igual a 1"
      ]
    },
    {
      "cell_type": "code",
      "metadata": {
        "id": "YgdLDVypVi5I",
        "colab_type": "code",
        "outputId": "585b4410-d8e2-45fa-bef1-6bf09667d840",
        "colab": {
          "base_uri": "https://localhost:8080/",
          "height": 54
        }
      },
      "source": [
        "def extrator_palavras(documento):\n",
        "  doc = set(documento)\n",
        "  caracteristica = {}\n",
        "  for palavra in palavras_unicas:\n",
        "    caracteristica['%s' % palavra] = (palavra in doc)\n",
        "  return caracteristica\n",
        "\n",
        "print(extrator_palavras(['sinto','muito','medo']))"
      ],
      "execution_count": 390,
      "outputs": [
        {
          "output_type": "stream",
          "text": [
            "{'admirada': False, 'muito': True, 'sinto': True, 'completament': False, 'amado': False, 'amar': False, 'maravilhoso': False, 'sentindo': False, 'animado': False, 'novament': False, 'bem': False, 'hoje': False, 'belo': False, 'dia': False, 'dirigir': False, 'carro': False, 'novo': False, 'bonito': False, 'apaixonado': False, 'content': False, 'resultado': False, 'test': False, 'fiz': False, 'ontem': False, 'amor': False, 'lindo': False, 'amo': False, 'cachorro': False, 'amizad': False, 'vai': False, 'durar': False, 'sempr': False, 'amedrontado': False, 'medo': True, 'morrer': False, 'ameacando': False, 'deixa': False, 'apavorada': False, 'lugar': False, 'apavorant': False, 'perdermo': False, 'outro': False, 'jogo': False, 'eliminado': False, 'pavor': False, 'tome': False, 'cuidado': False, 'lobisomem': False, 'descobrirem': False, 'encrencado': False, 'tremendo': False}\n"
          ],
          "name": "stdout"
        }
      ]
    },
    {
      "cell_type": "markdown",
      "metadata": {
        "id": "KK029yICatGR",
        "colab_type": "text"
      },
      "source": [
        "##Base Completa"
      ]
    },
    {
      "cell_type": "code",
      "metadata": {
        "id": "TdJWGayxasfp",
        "colab_type": "code",
        "outputId": "fe2cb2c6-6723-48f8-93ec-6a243aed4b62",
        "colab": {
          "base_uri": "https://localhost:8080/",
          "height": 54
        }
      },
      "source": [
        "base_completa = nltk.classify.apply_features(extrator_palavras,base_nova)\n",
        "print(base_completa[0])"
      ],
      "execution_count": 391,
      "outputs": [
        {
          "output_type": "stream",
          "text": [
            "({'admirada': True, 'muito': True, 'sinto': False, 'completament': False, 'amado': False, 'amar': False, 'maravilhoso': False, 'sentindo': False, 'animado': False, 'novament': False, 'bem': False, 'hoje': False, 'belo': False, 'dia': False, 'dirigir': False, 'carro': False, 'novo': False, 'bonito': False, 'apaixonado': False, 'content': False, 'resultado': False, 'test': False, 'fiz': False, 'ontem': False, 'amor': False, 'lindo': False, 'amo': False, 'cachorro': False, 'amizad': False, 'vai': False, 'durar': False, 'sempr': False, 'amedrontado': False, 'medo': False, 'morrer': False, 'ameacando': False, 'deixa': False, 'apavorada': False, 'lugar': False, 'apavorant': False, 'perdermo': False, 'outro': False, 'jogo': False, 'eliminado': False, 'pavor': False, 'tome': False, 'cuidado': False, 'lobisomem': False, 'descobrirem': False, 'encrencado': False, 'tremendo': False}, 'alegria')\n"
          ],
          "name": "stdout"
        }
      ]
    },
    {
      "cell_type": "markdown",
      "metadata": {
        "id": "hKkcWhSPYS2W",
        "colab_type": "text"
      },
      "source": [
        "# Mineração de emoções"
      ]
    },
    {
      "cell_type": "markdown",
      "metadata": {
        "id": "RZlCYeoKYYc0",
        "colab_type": "text"
      },
      "source": [
        "## Classificação com Naive Bayes\n",
        "O algoritmo “[Naive Bayes](https://www.datageeks.com.br/naive-bayes/)” é um classificador probabilístico muito utilizado em machine learning. Baseado no “Teorema de Bayes”, o modelo foi criado por um matemático inglês, e também ministro presibiteriano, chamado Thomas Bayes (1701 – 1761) para tentar provar a existência de Deus."
      ]
    },
    {
      "cell_type": "code",
      "metadata": {
        "id": "dqP808yYYSIu",
        "colab_type": "code",
        "colab": {
          "base_uri": "https://localhost:8080/",
          "height": 34
        },
        "outputId": "5d196714-7ab0-4670-9156-09a4e7a211ca"
      },
      "source": [
        "# Cria a tabela probabilistica \n",
        "classificador = nltk.NaiveBayesClassifier.train(base_completa)\n",
        "print(classificador.labels()) # existe dois tipos de classes 'Alegria' e 'Medo'"
      ],
      "execution_count": 392,
      "outputs": [
        {
          "output_type": "stream",
          "text": [
            "['alegria', 'medo']\n"
          ],
          "name": "stdout"
        }
      ]
    },
    {
      "cell_type": "code",
      "metadata": {
        "id": "e2T8GnvteDit",
        "colab_type": "code",
        "colab": {}
      },
      "source": [
        "def aplica_stemmer_frase(texto):\n",
        "  stemmer = PorterStemmer()\n",
        "  stemmed = nltk.stem.SnowballStemmer('portuguese')\n",
        "  frases_stemming = []\n",
        "  for palavras in texto.split():\n",
        "    pala = [p for p in palavras.split()]\n",
        "    frases_stemming.append(str(stemmer.stem(pala[0])))\n",
        "  return frases_stemming"
      ],
      "execution_count": 0,
      "outputs": []
    },
    {
      "cell_type": "code",
      "metadata": {
        "id": "_4g1vTbzi3ic",
        "colab_type": "code",
        "colab": {}
      },
      "source": [
        "def classifica_prob(texto):\n",
        "  dist = classificador.prob_classify(texto)\n",
        "  result = ''\n",
        "  for classe in dist.samples():\n",
        "    result += classe + \" : \" + str(dist.prob(classe)) + \" \"\n",
        "  return result"
      ],
      "execution_count": 0,
      "outputs": []
    },
    {
      "cell_type": "code",
      "metadata": {
        "id": "oaEcoz3IaXwE",
        "colab_type": "code",
        "colab": {
          "base_uri": "https://localhost:8080/",
          "height": 136
        },
        "outputId": "3e06563c-cf3e-4689-da87-31db617837f1"
      },
      "source": [
        "print(classificador.show_most_informative_features(5))"
      ],
      "execution_count": 395,
      "outputs": [
        {
          "output_type": "stream",
          "text": [
            "Most Informative Features\n",
            "                     dia = True           alegri : medo   =      2.2 : 1.0\n",
            "                    medo = False          alegri : medo   =      1.5 : 1.0\n",
            "                   deixa = False          alegri : medo   =      1.2 : 1.0\n",
            "                     dia = False            medo : alegri =      1.2 : 1.0\n",
            "            completament = False            medo : alegri =      1.2 : 1.0\n",
            "None\n"
          ],
          "name": "stdout"
        }
      ]
    },
    {
      "cell_type": "code",
      "metadata": {
        "id": "vBqpPozjdAPt",
        "colab_type": "code",
        "colab": {
          "base_uri": "https://localhost:8080/",
          "height": 34
        },
        "outputId": "70c0e98f-661f-474c-a7b9-6c83efee0cfe"
      },
      "source": [
        "teste = \"Eu morro de amor por meu cachorro\"\n",
        "teste = aplica_stemmer_frase(teste) # Removendo os radicais\n",
        "print(teste)"
      ],
      "execution_count": 396,
      "outputs": [
        {
          "output_type": "stream",
          "text": [
            "['Eu', 'morro', 'de', 'amor', 'por', 'meu', 'cachorro']\n"
          ],
          "name": "stdout"
        }
      ]
    },
    {
      "cell_type": "code",
      "metadata": {
        "id": "64SURdRXfhOl",
        "colab_type": "code",
        "colab": {}
      },
      "source": [
        "teste = extrator_palavras(teste)"
      ],
      "execution_count": 0,
      "outputs": []
    },
    {
      "cell_type": "code",
      "metadata": {
        "id": "SyqP_dwyg1-Z",
        "colab_type": "code",
        "colab": {
          "base_uri": "https://localhost:8080/",
          "height": 34
        },
        "outputId": "0f88e85f-5a2c-479c-fa4d-578d47967e9d"
      },
      "source": [
        "print(\"Sentimento da frase =>\" ,classificador.classify(teste))"
      ],
      "execution_count": 398,
      "outputs": [
        {
          "output_type": "stream",
          "text": [
            "Sentimento da frase => alegria\n"
          ],
          "name": "stdout"
        }
      ]
    },
    {
      "cell_type": "code",
      "metadata": {
        "id": "nj3f2jdqj4gN",
        "colab_type": "code",
        "colab": {
          "base_uri": "https://localhost:8080/",
          "height": 34
        },
        "outputId": "e70bba8d-de3a-42f8-8957-dbebb58b4554"
      },
      "source": [
        "classifica_prob(teste)"
      ],
      "execution_count": 399,
      "outputs": [
        {
          "output_type": "execute_result",
          "data": {
            "text/plain": [
              "'alegria : 0.9205184474097389 medo : 0.07948155259026093 '"
            ]
          },
          "metadata": {
            "tags": []
          },
          "execution_count": 399
        }
      ]
    }
  ]
}
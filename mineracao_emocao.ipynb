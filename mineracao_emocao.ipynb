{
  "nbformat": 4,
  "nbformat_minor": 0,
  "metadata": {
    "colab": {
      "name": "mineracao-emocao.ipynb",
      "provenance": [],
      "toc_visible": true
    },
    "kernelspec": {
      "name": "python3",
      "display_name": "Python 3"
    }
  },
  "cells": [
    {
      "cell_type": "markdown",
      "metadata": {
        "id": "PfOLLeabOtrj",
        "colab_type": "text"
      },
      "source": [
        "##Bibliotecas"
      ]
    },
    {
      "cell_type": "code",
      "metadata": {
        "id": "Da1hZuOo2hol",
        "colab_type": "code",
        "colab": {
          "base_uri": "https://localhost:8080/",
          "height": 153
        },
        "outputId": "153733fd-0870-4d84-ffad-793f1a86acf2"
      },
      "source": [
        "import nltk\n",
        "nltk.download('punkt')\n",
        "nltk.download('stopwords')\n",
        "nltk.download('averaged_perceptron_tagger')\n",
        "from nltk.tokenize import word_tokenize\n",
        "from nltk import tokenize \n",
        "from nltk.stem import RSLPStemmer\n",
        "from nltk.stem.porter import *"
      ],
      "execution_count": 122,
      "outputs": [
        {
          "output_type": "stream",
          "text": [
            "[nltk_data] Downloading package punkt to /root/nltk_data...\n",
            "[nltk_data]   Package punkt is already up-to-date!\n",
            "[nltk_data] Downloading package stopwords to /root/nltk_data...\n",
            "[nltk_data]   Package stopwords is already up-to-date!\n",
            "[nltk_data] Downloading package averaged_perceptron_tagger to\n",
            "[nltk_data]     /root/nltk_data...\n",
            "[nltk_data]   Package averaged_perceptron_tagger is already up-to-\n",
            "[nltk_data]       date!\n"
          ],
          "name": "stdout"
        }
      ]
    },
    {
      "cell_type": "markdown",
      "metadata": {
        "id": "zvecPGfPbOSC",
        "colab_type": "text"
      },
      "source": [
        "#  Pré-processamento dos dados"
      ]
    },
    {
      "cell_type": "code",
      "metadata": {
        "id": "74_IgeV85sYY",
        "colab_type": "code",
        "colab": {}
      },
      "source": [
        "base = [('eu sou admirada por muitos','alegria'),\n",
        "        ('me sinto completamente amado','alegria'),\n",
        "        ('amar e maravilhoso','alegria'),\n",
        "        ('estou me sentindo muito animado novamente','alegria'),\n",
        "        ('eu estou muito bem hoje','alegria'),\n",
        "        ('que belo dia para dirigir um carro novo','alegria'),\n",
        "        ('o dia está muito bonito','alegria'),\n",
        "        ('estou contente com o resultado do teste que fiz no dia de ontem','alegria'),\n",
        "        ('o amor e lindo','alegria'),\n",
        "        ('nossa amizade e amor vai durar para sempre', 'alegria'),\n",
        "        ('estou amedrontado', 'medo'),\n",
        "        ('ele esta me ameacando a dias', 'medo'),\n",
        "        ('isso me deixa apavorada', 'medo'),\n",
        "        ('este lugar e apavorante', 'medo'),\n",
        "        ('se perdermos outro jogo seremos eliminados e isso me deixa com pavor', 'medo'),\n",
        "        ('tome cuidado com o lobisomem', 'medo'),\n",
        "        ('se eles descobrirem estamos encrencados', 'medo'),\n",
        "        ('estou tremendo de medo', 'medo'),\n",
        "        ('eu tenho muito medo dele', 'medo'),\n",
        "        ('estou com medo do resultado dos meus testes', 'medo')]"
      ],
      "execution_count": 0,
      "outputs": []
    },
    {
      "cell_type": "markdown",
      "metadata": {
        "id": "vDsfXsaWOiV8",
        "colab_type": "text"
      },
      "source": [
        "##Remoção de Stopwords\n",
        "Esse método consiste em remover palavras muito frequentes, tais como “a”, “de”, “o”, “da”, “que”, “e”, “do” entre outras, pois na maioria das vezes não são informações relevantes para a construção do modelo."
      ]
    },
    {
      "cell_type": "code",
      "metadata": {
        "id": "lCXILd4C5u1A",
        "colab_type": "code",
        "colab": {
          "base_uri": "https://localhost:8080/",
          "height": 54
        },
        "outputId": "2ac25d42-8724-4235-d5a7-8e13cefa9a17"
      },
      "source": [
        "stopwords = nltk.corpus.stopwords.words('portuguese')\n",
        "\n",
        "def remove_stopwords(texto):\n",
        "  frase = []\n",
        "  for (palavras , emocao) in texto:\n",
        "    sem_stop = [p for p in palavras.split() if p not in stopwords]\n",
        "    frase.append((sem_stop,emocao))\n",
        "  return frase\n",
        "\n",
        "base_sem_stopwords = (remove_stopwords(base))\n",
        "print(base_sem_stopwords)"
      ],
      "execution_count": 134,
      "outputs": [
        {
          "output_type": "stream",
          "text": [
            "[(['admirada', 'muitos'], 'alegria'), (['sinto', 'completamente', 'amado'], 'alegria'), (['amar', 'maravilhoso'], 'alegria'), (['sentindo', 'animado', 'novamente'], 'alegria'), (['bem', 'hoje'], 'alegria'), (['belo', 'dia', 'dirigir', 'carro', 'novo'], 'alegria'), (['dia', 'bonito'], 'alegria'), (['contente', 'resultado', 'teste', 'fiz', 'dia', 'ontem'], 'alegria'), (['amor', 'lindo'], 'alegria'), (['amizade', 'amor', 'vai', 'durar', 'sempre'], 'alegria'), (['amedrontado'], 'medo'), (['ameacando', 'dias'], 'medo'), (['deixa', 'apavorada'], 'medo'), (['lugar', 'apavorante'], 'medo'), (['perdermos', 'outro', 'jogo', 'eliminados', 'deixa', 'pavor'], 'medo'), (['tome', 'cuidado', 'lobisomem'], 'medo'), (['descobrirem', 'encrencados'], 'medo'), (['tremendo', 'medo'], 'medo'), (['medo'], 'medo'), (['medo', 'resultado', 'testes'], 'medo')]\n"
          ],
          "name": "stdout"
        }
      ]
    },
    {
      "cell_type": "markdown",
      "metadata": {
        "id": "_WeOpgOSOavE",
        "colab_type": "text"
      },
      "source": [
        "## Stemização\n",
        "Consiste em reduzir uma palavra ao seu radical"
      ]
    },
    {
      "cell_type": "code",
      "metadata": {
        "id": "b5LA5OwX_dku",
        "colab_type": "code",
        "colab": {
          "base_uri": "https://localhost:8080/",
          "height": 71
        },
        "outputId": "9f532f43-9af2-43f9-dd24-edf82bf32e08"
      },
      "source": [
        "#Stemming\n",
        "\n",
        "#stemmed_palavras = [stemmer.stem(word) for word in base_sem_stopwords]\n",
        "def aplica_stemmer(texto):\n",
        "  stemmer = PorterStemmer()\n",
        "  stemmed = nltk.stem.SnowballStemmer('portuguese')\n",
        "  \n",
        "  frases_stemming = []\n",
        "  for (palavras, emocao) in texto:\n",
        "    com_stemming = [str(stemmer.stem(p)) for p in palavras]\n",
        "    frases_stemming.append((com_stemming,emocao))\n",
        "  return frases_stemming\n",
        "\n",
        "\n",
        "print(base_sem_stopwords)\n",
        "base_nova = aplica_stemmer(base_sem_stopwords)\n",
        "print(base_nova)\n"
      ],
      "execution_count": 125,
      "outputs": [
        {
          "output_type": "stream",
          "text": [
            "[(['admiradara', 'muitos'], 'alegria'), (['sinto', 'completamente', 'amado'], 'alegria'), (['amar', 'maravilhoso'], 'alegria'), (['sentindo', 'animado', 'novamente'], 'alegria'), (['bem', 'hoje'], 'alegria'), (['belo', 'dia', 'dirigir', 'carro', 'novo'], 'alegria'), (['dia', 'bonito'], 'alegria'), (['contente', 'resultado', 'teste', 'fiz', 'dia', 'ontem'], 'alegria'), (['amor', 'lindo'], 'alegria'), (['amizade', 'amor', 'vai', 'durar', 'sempre'], 'alegria'), (['amedrontado'], 'medo'), (['ameacando', 'dias'], 'medo'), (['deixa', 'apavorada'], 'medo'), (['lugar', 'apavorante'], 'medo'), (['perdermos', 'outro', 'jogo', 'eliminados', 'deixa', 'pavor'], 'medo'), (['tome', 'cuidado', 'lobisomem'], 'medo'), (['descobrirem', 'encrencados'], 'medo'), (['tremendo', 'medo'], 'medo'), (['medo'], 'medo'), (['medo', 'resultado', 'testes'], 'medo')]\n",
            "[(['admiradara', 'muito'], 'alegria'), (['sinto', 'completament', 'amado'], 'alegria'), (['amar', 'maravilhoso'], 'alegria'), (['sentindo', 'animado', 'novament'], 'alegria'), (['bem', 'hoje'], 'alegria'), (['belo', 'dia', 'dirigir', 'carro', 'novo'], 'alegria'), (['dia', 'bonito'], 'alegria'), (['content', 'resultado', 'test', 'fiz', 'dia', 'ontem'], 'alegria'), (['amor', 'lindo'], 'alegria'), (['amizad', 'amor', 'vai', 'durar', 'sempr'], 'alegria'), (['amedrontado'], 'medo'), (['ameacando', 'dia'], 'medo'), (['deixa', 'apavorada'], 'medo'), (['lugar', 'apavorant'], 'medo'), (['perdermo', 'outro', 'jogo', 'eliminado', 'deixa', 'pavor'], 'medo'), (['tome', 'cuidado', 'lobisomem'], 'medo'), (['descobrirem', 'encrencado'], 'medo'), (['tremendo', 'medo'], 'medo'), (['medo'], 'medo'), (['medo', 'resultado', 'test'], 'medo')]\n"
          ],
          "name": "stdout"
        }
      ]
    },
    {
      "cell_type": "markdown",
      "metadata": {
        "id": "jswiAFyUOQfZ",
        "colab_type": "text"
      },
      "source": [
        "## Removendo as emoções"
      ]
    },
    {
      "cell_type": "code",
      "metadata": {
        "id": "niq_H88sMNhq",
        "colab_type": "code",
        "colab": {
          "base_uri": "https://localhost:8080/",
          "height": 54
        },
        "outputId": "822c0ea6-66b5-4dd5-d0af-f7c63dbf7178"
      },
      "source": [
        "def remove_emocoes(base):\n",
        "  base_nova = []\n",
        "  for (palavras,emocao) in base:\n",
        "    base_nova.extend(palavras)\n",
        "  return base_nova\n",
        "\n",
        "base_palavras = remove_emocoes(base_nova)\n",
        "print(base_palavras)"
      ],
      "execution_count": 126,
      "outputs": [
        {
          "output_type": "stream",
          "text": [
            "['admiradara', 'muito', 'sinto', 'completament', 'amado', 'amar', 'maravilhoso', 'sentindo', 'animado', 'novament', 'bem', 'hoje', 'belo', 'dia', 'dirigir', 'carro', 'novo', 'dia', 'bonito', 'content', 'resultado', 'test', 'fiz', 'dia', 'ontem', 'amor', 'lindo', 'amizad', 'amor', 'vai', 'durar', 'sempr', 'amedrontado', 'ameacando', 'dia', 'deixa', 'apavorada', 'lugar', 'apavorant', 'perdermo', 'outro', 'jogo', 'eliminado', 'deixa', 'pavor', 'tome', 'cuidado', 'lobisomem', 'descobrirem', 'encrencado', 'tremendo', 'medo', 'medo', 'medo', 'resultado', 'test']\n"
          ],
          "name": "stdout"
        }
      ]
    },
    {
      "cell_type": "code",
      "metadata": {
        "id": "cYs5sUC8QID2",
        "colab_type": "code",
        "colab": {
          "base_uri": "https://localhost:8080/",
          "height": 54
        },
        "outputId": "3e45e497-14f9-4e51-efff-6618bdab7da8"
      },
      "source": [
        "frequencia = nltk.FreqDist(base_palavras)\n",
        "print(frequencia.most_common(20))"
      ],
      "execution_count": 127,
      "outputs": [
        {
          "output_type": "stream",
          "text": [
            "[('dia', 4), ('medo', 3), ('resultado', 2), ('test', 2), ('amor', 2), ('deixa', 2), ('admiradara', 1), ('muito', 1), ('sinto', 1), ('completament', 1), ('amado', 1), ('amar', 1), ('maravilhoso', 1), ('sentindo', 1), ('animado', 1), ('novament', 1), ('bem', 1), ('hoje', 1), ('belo', 1), ('dirigir', 1)]\n"
          ],
          "name": "stdout"
        }
      ]
    },
    {
      "cell_type": "markdown",
      "metadata": {
        "id": "NM55JCzFWWWX",
        "colab_type": "text"
      },
      "source": [
        "##Vetor de caracteristicas"
      ]
    },
    {
      "cell_type": "code",
      "metadata": {
        "id": "J8n_NCt-Tef2",
        "colab_type": "code",
        "colab": {
          "base_uri": "https://localhost:8080/",
          "height": 54
        },
        "outputId": "ed0553d6-b8c6-4431-b2c1-07f9d5188619"
      },
      "source": [
        "def busca_palavras_unicas(base_frequencia):\n",
        "  return base_frequencia.keys()\n",
        "\n",
        "palavras_unicas = busca_palavras_unicas(frequencia)\n",
        "print(palavras_unicas)"
      ],
      "execution_count": 128,
      "outputs": [
        {
          "output_type": "stream",
          "text": [
            "dict_keys(['admiradara', 'muito', 'sinto', 'completament', 'amado', 'amar', 'maravilhoso', 'sentindo', 'animado', 'novament', 'bem', 'hoje', 'belo', 'dia', 'dirigir', 'carro', 'novo', 'bonito', 'content', 'resultado', 'test', 'fiz', 'ontem', 'amor', 'lindo', 'amizad', 'vai', 'durar', 'sempr', 'amedrontado', 'ameacando', 'deixa', 'apavorada', 'lugar', 'apavorant', 'perdermo', 'outro', 'jogo', 'eliminado', 'pavor', 'tome', 'cuidado', 'lobisomem', 'descobrirem', 'encrencado', 'tremendo', 'medo'])\n"
          ],
          "name": "stdout"
        }
      ]
    },
    {
      "cell_type": "markdown",
      "metadata": {
        "id": "p4HR4YPybaby",
        "colab_type": "text"
      },
      "source": [
        "##Extração das palavas\n",
        "palavras com frêquencia igual a 1"
      ]
    },
    {
      "cell_type": "code",
      "metadata": {
        "id": "YgdLDVypVi5I",
        "colab_type": "code",
        "colab": {
          "base_uri": "https://localhost:8080/",
          "height": 54
        },
        "outputId": "be968ea7-4cac-48cc-a89f-64806dcdb930"
      },
      "source": [
        "def extrator_palavras(documento):\n",
        "  doc = set(documento)\n",
        "  caracteristica = {}\n",
        "  for palavra in palavras_unicas:\n",
        "    caracteristica['%s' % palavra] = (palavra in doc)\n",
        "  return caracteristica\n",
        "\n",
        "print(extrator_palavras(['sinto','muito']))"
      ],
      "execution_count": 129,
      "outputs": [
        {
          "output_type": "stream",
          "text": [
            "{'admiradara': False, 'muito': True, 'sinto': True, 'completament': False, 'amado': False, 'amar': False, 'maravilhoso': False, 'sentindo': False, 'animado': False, 'novament': False, 'bem': False, 'hoje': False, 'belo': False, 'dia': False, 'dirigir': False, 'carro': False, 'novo': False, 'bonito': False, 'content': False, 'resultado': False, 'test': False, 'fiz': False, 'ontem': False, 'amor': False, 'lindo': False, 'amizad': False, 'vai': False, 'durar': False, 'sempr': False, 'amedrontado': False, 'ameacando': False, 'deixa': False, 'apavorada': False, 'lugar': False, 'apavorant': False, 'perdermo': False, 'outro': False, 'jogo': False, 'eliminado': False, 'pavor': False, 'tome': False, 'cuidado': False, 'lobisomem': False, 'descobrirem': False, 'encrencado': False, 'tremendo': False, 'medo': False}\n"
          ],
          "name": "stdout"
        }
      ]
    },
    {
      "cell_type": "markdown",
      "metadata": {
        "id": "KK029yICatGR",
        "colab_type": "text"
      },
      "source": [
        "##Base Completa"
      ]
    },
    {
      "cell_type": "code",
      "metadata": {
        "id": "TdJWGayxasfp",
        "colab_type": "code",
        "colab": {
          "base_uri": "https://localhost:8080/",
          "height": 54
        },
        "outputId": "4a11a725-8d77-494a-b844-f7b7fe31876b"
      },
      "source": [
        "base_completa = nltk.classify.apply_features(extrator_palavras,base_nova)\n",
        "print(base_completa[0])"
      ],
      "execution_count": 130,
      "outputs": [
        {
          "output_type": "stream",
          "text": [
            "({'admiradara': True, 'muito': True, 'sinto': False, 'completament': False, 'amado': False, 'amar': False, 'maravilhoso': False, 'sentindo': False, 'animado': False, 'novament': False, 'bem': False, 'hoje': False, 'belo': False, 'dia': False, 'dirigir': False, 'carro': False, 'novo': False, 'bonito': False, 'content': False, 'resultado': False, 'test': False, 'fiz': False, 'ontem': False, 'amor': False, 'lindo': False, 'amizad': False, 'vai': False, 'durar': False, 'sempr': False, 'amedrontado': False, 'ameacando': False, 'deixa': False, 'apavorada': False, 'lugar': False, 'apavorant': False, 'perdermo': False, 'outro': False, 'jogo': False, 'eliminado': False, 'pavor': False, 'tome': False, 'cuidado': False, 'lobisomem': False, 'descobrirem': False, 'encrencado': False, 'tremendo': False, 'medo': False}, 'alegria')\n"
          ],
          "name": "stdout"
        }
      ]
    }
  ]
}